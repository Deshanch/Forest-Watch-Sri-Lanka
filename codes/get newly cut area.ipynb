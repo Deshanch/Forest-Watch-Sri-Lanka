{
 "cells": [
  {
   "cell_type": "code",
   "execution_count": 169,
   "metadata": {},
   "outputs": [],
   "source": [
    "import numpy as np\n",
    "import matplotlib.pyplot as plt\n",
    "import cv2\n",
    "\n",
    "from pathlib import Path"
   ]
  },
  {
   "cell_type": "code",
   "execution_count": 170,
   "metadata": {},
   "outputs": [],
   "source": [
    "img_before_cut = cv2.imread('create_before_cut.png', cv2.IMREAD_COLOR)\n",
    "img_after_cut = cv2.imread('create_after_cut.png', cv2.IMREAD_COLOR)"
   ]
  },
  {
   "cell_type": "code",
   "execution_count": 171,
   "metadata": {},
   "outputs": [],
   "source": [
    "# B G R\n",
    "light_brown = (30, 40, 50)\n",
    "dark_brown = (40, 60, 90)\n",
    "\n",
    "mask_before = cv2.inRange(img_before_cut, light_brown, dark_brown)\n",
    "mask_after = cv2.inRange(img_after_cut, light_brown, dark_brown)"
   ]
  },
  {
   "cell_type": "code",
   "execution_count": 172,
   "metadata": {},
   "outputs": [],
   "source": [
    "diff = cv2.absdiff(mask_before, mask_after)\n",
    "\n",
    "height = diff.shape[0]\n",
    "width = diff.shape[1]"
   ]
  },
  {
   "cell_type": "code",
   "execution_count": 173,
   "metadata": {},
   "outputs": [],
   "source": [
    "height = diff.shape[0]\n",
    "width = diff.shape[1]\n",
    "\n",
    "diff2 = np.zeros((height, width, 1), np.uint8)\n",
    "\n",
    "for i in range(0, height):\n",
    "    for j in range(0, width):\n",
    "        if((diff[i, j] == mask_before[i, j]) and (mask_before[i, j] == 255)):\n",
    "            diff2[i, j] = 0  \n",
    "        else:\n",
    "            diff2[i, j] = diff[i,j]"
   ]
  },
  {
   "cell_type": "code",
   "execution_count": 174,
   "metadata": {},
   "outputs": [],
   "source": [
    "ret,thresh = cv2.threshold(diff2,25,255,cv2.THRESH_BINARY)\n",
    "\n",
    "# Find the contour of the figure \n",
    "image, contours, hierarchy = cv2.findContours(\n",
    "                                   image = thresh, \n",
    "                                   mode = cv2.RETR_TREE, \n",
    "                                   method = cv2.CHAIN_APPROX_SIMPLE)\n",
    "\n",
    "# Sort the contours \n",
    "contours = sorted(contours, key = cv2.contourArea, reverse = True)\n",
    "# Draw the contour \n",
    "img_copy = img_after_cut.copy()\n",
    "final = cv2.drawContours(img_copy, contours, contourIdx = -1, \n",
    "                         color = (0, 0, 200), thickness = 5)\n",
    "cv2.imshow(\"cut marked image\",img_copy)\n",
    "cv2.imwrite('cut marked image.png',img_copy) \n",
    "cv2.waitKey(0)\n",
    "cv2.destroyAllWindows()"
   ]
  },
  {
   "cell_type": "code",
   "execution_count": null,
   "metadata": {},
   "outputs": [],
   "source": []
  }
 ],
 "metadata": {
  "kernelspec": {
   "display_name": "Python 3",
   "language": "python",
   "name": "python3"
  },
  "language_info": {
   "codemirror_mode": {
    "name": "ipython",
    "version": 3
   },
   "file_extension": ".py",
   "mimetype": "text/x-python",
   "name": "python",
   "nbconvert_exporter": "python",
   "pygments_lexer": "ipython3",
   "version": "3.7.6"
  }
 },
 "nbformat": 4,
 "nbformat_minor": 4
}
