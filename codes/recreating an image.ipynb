{
 "cells": [
  {
   "cell_type": "code",
   "execution_count": 1,
   "metadata": {},
   "outputs": [],
   "source": [
    "import os\n",
    "import cv2\n",
    "import numpy as np\n",
    "import torch # The top-level PyTorch package and tensor library.\n",
    "import torch.nn as nn # A subpackage that contains modules and extensible classes for building neural networks.\n",
    "import torch.optim as optim # A subpackage that contains standard optimization operations like SGD and Adam.\n",
    "import torch.nn.functional as F # functional interface that contains typical operations used for building neural networks like loss functions and convolutions.\n",
    "\n",
    "import torchvision # package that provides access to popular datasets, model architectures, and image transformations for computer vision.\n",
    "import torchvision.transforms as transforms # An interface that contains common transforms for image processing.\n",
    "\n",
    "torch.set_printoptions(linewidth=120) # to print in one line\n",
    "torch.set_grad_enabled(True)#to update new gradients have to have past gradients so make pytorch to trach the grad values\n",
    "\n",
    "from torch.autograd import Variable\n",
    "from torch.utils.data import DataLoader\n",
    "from PIL import Image"
   ]
  },
  {
   "cell_type": "code",
   "execution_count": 2,
   "metadata": {},
   "outputs": [],
   "source": [
    "def check_pixel(pixel):\n",
    "    first = 0\n",
    "    second = 0\n",
    "    third = 0\n",
    "    \n",
    "    for i in range(70, 256):\n",
    "        if (pixel[0] == i):\n",
    "            first = 1\n",
    "            \n",
    "    for j in range(70, 256):\n",
    "        if (pixel[0] == j):\n",
    "            second = 1\n",
    "            \n",
    "    for k in range(70, 256):\n",
    "        if (pixel[0] == k):\n",
    "            third = 1\n",
    "                    \n",
    "    return (first & second & third)"
   ]
  },
  {
   "cell_type": "code",
   "execution_count": 3,
   "metadata": {},
   "outputs": [],
   "source": [
    "def create_before_cut(img1, img2, img3, img4):\n",
    "\n",
    "    height = img1.shape[0]\n",
    "    width = img1.shape[1]\n",
    "    \n",
    "    create_before_cut = np.zeros((height, width, 3), np.uint8)\n",
    "    \n",
    "    for i in range(0, height):\n",
    "        for j in range(0, width):\n",
    "\n",
    "            if not(check_pixel(img1[i, j])) :\n",
    "                pixel = img1[i, j]\n",
    "\n",
    "            elif not(check_pixel(img2[i, j])) :\n",
    "                pixel = img2[i, j]    \n",
    "\n",
    "            elif not(check_pixel(img3[i, j])) :\n",
    "                pixel = img3[i, j] \n",
    "\n",
    "            elif not(check_pixel(img4[i, j])) :\n",
    "                pixel = img4[i, j]     \n",
    "\n",
    "            else:\n",
    "                pixel = img1[i, j]\n",
    "\n",
    "            create_before_cut[i, j] = pixel \n",
    "            \n",
    "    cv2.imwrite('create_before_cut.png',create_before_cut)        \n",
    "    return(create_before_cut)"
   ]
  },
  {
   "cell_type": "code",
   "execution_count": 4,
   "metadata": {},
   "outputs": [],
   "source": [
    "def create_after_cut(img5, img6, img7, img8, img9, img10, img11, img12):\n",
    "\n",
    "    height = img6.shape[0]\n",
    "    width = img6.shape[1]\n",
    "\n",
    "    create_after_cut = np.zeros((height, width, 3), np.uint8)\n",
    "    \n",
    "    for i in range(0, height):\n",
    "        for j in range(0, width):\n",
    "\n",
    "            if not(check_pixel(img6[i, j])) :\n",
    "                pixel = img6[i, j]\n",
    "\n",
    "            elif not(check_pixel(img5[i, j])) :\n",
    "                pixel = img5[i, j]    \n",
    "\n",
    "            elif not(check_pixel(img7[i, j])) :\n",
    "                pixel = img7[i, j] \n",
    "\n",
    "            elif not(check_pixel(img8[i, j])) :\n",
    "                pixel = img8[i, j]  \n",
    "\n",
    "            elif not(check_pixel(img9[i, j])) :\n",
    "                pixel = img9[i, j]\n",
    "\n",
    "            elif not(check_pixel(img10[i, j])) :\n",
    "                pixel = img10[i, j]\n",
    "\n",
    "            elif not(check_pixel(img11[i, j])) :\n",
    "                pixel = img11[i, j] \n",
    "\n",
    "            elif not(check_pixel(img12[i, j])) :\n",
    "                pixel = img12[i, j] \n",
    "\n",
    "            else:\n",
    "                pixel = img6[i, j]\n",
    "\n",
    "            create_after_cut[i, j] = pixel  \n",
    "\n",
    "    cv2.imwrite('create_after_cut.png',create_after_cut)  \n",
    "    return(create_after_cut)"
   ]
  },
  {
   "cell_type": "code",
   "execution_count": 5,
   "metadata": {},
   "outputs": [],
   "source": [
    "img1 = cv2.imread('1.png')\n",
    "img2 = cv2.imread('2.png')\n",
    "img3 = cv2.imread('3.png')\n",
    "img4 = cv2.imread('4.png')\n",
    "img5 = cv2.imread('5.png')\n",
    "img6 = cv2.imread('6.png')\n",
    "img7 = cv2.imread('7.png')\n",
    "img8 = cv2.imread('8.png')\n",
    "img9 = cv2.imread('9.png')\n",
    "img10 = cv2.imread('10.png')\n",
    "img11 = cv2.imread('11.png')\n",
    "img12 = cv2.imread('12.png')\n",
    "\n",
    "create_before_cut = create_before_cut(img1, img2, img3, img4)\n",
    "create_after_cut = create_after_cut(img5, img6, img7, img8, img9, img10, img11, img12)\n",
    "\n",
    "cv2.imshow('recreated image before cutting', create_before_cut)\n",
    "cv2.imshow('recreated image after cutting', create_after_cut)\n",
    "\n",
    "cv2.waitKey(0)\n",
    "cv2.destroyAllWindows()    "
   ]
  },
  {
   "cell_type": "code",
   "execution_count": 104,
   "metadata": {},
   "outputs": [
    {
     "data": {
      "text/plain": [
       "'    \\n        elif not(check_pixel(img5[i, j])) :\\n            pixel = img5[i, j]\\n            \\n        elif not(check_pixel(img6[i, j])) :\\n            pixel = img6[i, j]\\n            \\n        elif not(check_pixel(img7[i, j])) :\\n            pixe1 = img7[i, j] \\n            \\n        elif not(check_pixel(img8[i, j])) :\\n            pixe1 = img8[i, j]  \\n            \\n        elif not(check_pixel(img9[i, j])) :\\n            pixel = img9[i, j]\\n            \\n        elif not(check_pixel(img10[i, j])) :\\n            pixel = img10[i, j]\\n            \\n        elif not(check_pixel(img11[i, j])) :\\n            pixe1 = img11[i, j] \\n            \\n        elif not(check_pixel(img12[i, j])) :\\n            pixe1 = img12[i, j]     \\n        '"
      ]
     },
     "execution_count": 104,
     "metadata": {},
     "output_type": "execute_result"
    }
   ],
   "source": []
  },
  {
   "cell_type": "code",
   "execution_count": 105,
   "metadata": {},
   "outputs": [],
   "source": [
    "cv2.imshow('recreated image', img6)\n",
    "\n",
    "cv2.waitKey(0)\n",
    "cv2.destroyAllWindows()"
   ]
  },
  {
   "cell_type": "code",
   "execution_count": 181,
   "metadata": {},
   "outputs": [],
   "source": [
    "image = np.zeros((300, 300, 3), np.uint8)\n",
    "# Fill image with red color(set each pixel to red)\n",
    "image[:] = (30, 80, 120) # B G R\n",
    "\n",
    "cv2.imshow('recreated image', image)\n",
    "\n",
    "cv2.waitKey(0)#press any key to escape\n",
    "cv2.destroyAllWindows()"
   ]
  },
  {
   "cell_type": "code",
   "execution_count": null,
   "metadata": {},
   "outputs": [],
   "source": [
    "[255 255 243]\n",
    "[255 255 235]\n",
    "[255 255 238]                          255   255   225\n",
    "[255 255 237]\n",
    "[255 255 235]\n",
    "[253 255 236]\n",
    "[249 253 227]\n",
    "[255 248 203]\n",
    "[255 243 214]\n",
    "[229 240 215]\n",
    "[254 255 242]"
   ]
  },
  {
   "cell_type": "code",
   "execution_count": 20,
   "metadata": {},
   "outputs": [
    {
     "name": "stdout",
     "output_type": "stream",
     "text": [
      "0\n"
     ]
    },
    {
     "data": {
      "text/plain": [
       "'\\nif not(((img1[i, j] > [100,200,200]).all()) and ((img1[i, j] <= [255,255,255]).all())) :\\n    print(\"not in the range\")\\n    \\nelse:\\n    print(\"in the range\")\\n'"
      ]
     },
     "execution_count": 20,
     "metadata": {},
     "output_type": "execute_result"
    }
   ],
   "source": [
    "i = 99\n",
    "j = 99\n",
    "k = 0\n",
    "img1 = cv2.imread('1.png')\n",
    "img1[0 ,0] = [i, j, k]\n",
    "\n",
    "print(img1[0, 0][2])\n",
    "\"\"\"\n",
    "if not(((img1[i, j] > [100,200,200]).all()) and ((img1[i, j] <= [255,255,255]).all())) :\n",
    "    print(\"not in the range\")\n",
    "    \n",
    "else:\n",
    "    print(\"in the range\")\n",
    "\"\"\" "
   ]
  },
  {
   "cell_type": "code",
   "execution_count": 47,
   "metadata": {},
   "outputs": [],
   "source": [
    "def check_pixel(pixel):\n",
    "    print(pixel)\n",
    "    first = 0\n",
    "    second = 0\n",
    "    third = 0\n",
    "    \n",
    "    for i in range(245, 256):\n",
    "        if (pixel[0] == i):\n",
    "            first = 1\n",
    "            \n",
    "    for j in range(245, 256):\n",
    "        if (pixel[0] == j):\n",
    "            second = 1\n",
    "            \n",
    "    for k in range(245, 256):\n",
    "        if (pixel[0] == k):\n",
    "            third = 1\n",
    "                    \n",
    "    return (first & second & third)"
   ]
  },
  {
   "cell_type": "code",
   "execution_count": 51,
   "metadata": {},
   "outputs": [
    {
     "name": "stdout",
     "output_type": "stream",
     "text": [
      "[100 255 255]\n",
      "0\n"
     ]
    }
   ],
   "source": [
    "i = 100\n",
    "j = 255\n",
    "k = 255\n",
    "\n",
    "img1 = cv2.imread('1.png')\n",
    "img1[0 ,0] = [i, j, k]\n",
    "print(check_pixel(img1[0 ,0]))"
   ]
  },
  {
   "cell_type": "code",
   "execution_count": null,
   "metadata": {},
   "outputs": [],
   "source": []
  }
 ],
 "metadata": {
  "kernelspec": {
   "display_name": "Python 3",
   "language": "python",
   "name": "python3"
  },
  "language_info": {
   "codemirror_mode": {
    "name": "ipython",
    "version": 3
   },
   "file_extension": ".py",
   "mimetype": "text/x-python",
   "name": "python",
   "nbconvert_exporter": "python",
   "pygments_lexer": "ipython3",
   "version": "3.7.6"
  }
 },
 "nbformat": 4,
 "nbformat_minor": 4
}
